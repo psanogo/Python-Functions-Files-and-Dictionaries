{
 "cells": [
  {
   "cell_type": "markdown",
   "id": "6fe6099e",
   "metadata": {
    "deletable": false,
    "editable": false,
    "nbgrader": {
     "cell_type": "markdown",
     "checksum": "fe36bc7cb1c5db56bb86b98cdae36625",
     "grade": false,
     "grade_id": "cell-4c4eabccf0adeed4",
     "locked": true,
     "schema_version": 3,
     "solution": false,
     "task": false
    }
   },
   "source": [
    "# Assignment 2\n",
    "\n",
    "Inheritance"
   ]
  },
  {
   "cell_type": "markdown",
   "id": "bed5bc39",
   "metadata": {
    "deletable": false,
    "editable": false,
    "nbgrader": {
     "cell_type": "markdown",
     "checksum": "3155bd234731ee24af14365bcf1aff26",
     "grade": false,
     "grade_id": "cell-69fd4ef4eef318c7",
     "locked": true,
     "schema_version": 3,
     "solution": false,
     "task": false
    }
   },
   "source": [
    "It may help for this assignment to be slightly familiar with with the card game Pokemon, but it's not necessary. The key element of the game that we are simulating here is that a creature can be \"trained\", which enhances some its capabilities (health, defense, attack, etc.) If trained enough, a creature can \"evolve\" into a different creature.\n",
    "\n",
    "The class `Pokemon` is provided below. Each instance describes a Pokemon and its leveling and evolving characteristics. An instance of the class is one pokemon that you create. \n",
    "\n",
    "`Grass_Pokemon` is a subclass that inherits from `Pokemon` but changes some aspects, for instance, the boost values are different.\n",
    "\n",
    "For the subclass `Grass_Pokemon`, add another method called `action` that returns the string `\"[name of pokemon] knows a lot of different moves!\"`. \n",
    "\n",
    "Then create an instance of this class with the `name` as `\"Belle\"`. Assign this instance to the variable `p1`. The hidden test that runs when you submit your assignment will invoke your `.action()` method and check that it returns the correct string."
   ]
  },
  {
   "cell_type": "code",
   "execution_count": 4,
   "id": "f9303fa0",
   "metadata": {
    "deletable": false,
    "nbgrader": {
     "cell_type": "code",
     "checksum": "f49e104581e8a08b83ed15d61784cf74",
     "grade": false,
     "grade_id": "cell-8421abd705237d60",
     "locked": false,
     "schema_version": 3,
     "solution": true,
     "task": false
    }
   },
   "outputs": [
    {
     "name": "stdout",
     "output_type": "stream",
     "text": [
      "Belle knows a lot of different moves!\n"
     ]
    }
   ],
   "source": [
    "class Pokemon(object):\n",
    "    attack  = 12\n",
    "    defense = 10\n",
    "    health  = 15\n",
    "    p_type  = \"Normal\"\n",
    "    attack_boost  = 3\n",
    "    defense_boost = 2\n",
    "    health_boost  = 5\n",
    "    evolution_threshold = 10\n",
    "\n",
    "    def __init__(self, name, level = 5):\n",
    "        self.name  = name\n",
    "        self._level = level\n",
    "\n",
    "    @property\n",
    "    def level(self):\n",
    "        return self._level\n",
    "\n",
    "    @level.setter\n",
    "    def level(self, value):\n",
    "        if value < 1:\n",
    "            raise ValueError(\"Level must be greater than or equal to 1\")\n",
    "        self._level = value\n",
    "\n",
    "    def train(self):\n",
    "        self.attack_up()\n",
    "        self.defense_up()\n",
    "        self.health_up()\n",
    "        self.level = self.level + 1\n",
    "        evolved = (self.level % self.evolution_threshold == 0)\n",
    "        return self.level, evolved\n",
    "\n",
    "    def attack_up(self):\n",
    "        self.attack += self.attack_boost\n",
    "        return self.attack\n",
    "\n",
    "    def defense_up(self):\n",
    "        self.defense += self.defense_boost\n",
    "        return self.defense\n",
    "\n",
    "    def health_up(self):\n",
    "        self.health += self.health_boost\n",
    "        return self.health\n",
    "\n",
    "    def __str__(self):\n",
    "        return f\"Pokemon name: {self.name}, Type: {self.p_type}, Level: {self.level}\"\n",
    "\n",
    "class Grass_Pokemon(Pokemon):\n",
    "    attack  = 15\n",
    "    defense = 14\n",
    "    health  = 12\n",
    "    p_type  = \"Grass\"\n",
    "    attack_boost  = 2\n",
    "    defense_boost = 3\n",
    "    health_boost  = 6\n",
    "    evolution_threshold = 12\n",
    "\n",
    "    def moves(self):\n",
    "        self.p_moves = [\"razor leaf\", \"synthesis\", \"petal dance\"]\n",
    "\n",
    "    def action(self):\n",
    "        return f\"{self.name} knows a lot of different moves!\"\n",
    "\n",
    "# Create an instance of this class with the name as \"Belle\".\n",
    "p1 = Grass_Pokemon(\"Belle\")\n",
    "\n",
    "# --- Verification (optional) ---\n",
    "print(p1.action())\n"
   ]
  },
  {
   "cell_type": "code",
   "execution_count": null,
   "id": "cf732aac",
   "metadata": {
    "deletable": false,
    "editable": false,
    "nbgrader": {
     "cell_type": "code",
     "checksum": "297345c890d83b5964b5851f662a4750",
     "grade": true,
     "grade_id": "cell-f51fd39c1dd5fb07",
     "locked": true,
     "points": 1,
     "schema_version": 3,
     "solution": false,
     "task": false
    }
   },
   "outputs": [],
   "source": []
  },
  {
   "cell_type": "markdown",
   "id": "c12677fc",
   "metadata": {
    "deletable": false,
    "editable": false,
    "nbgrader": {
     "cell_type": "markdown",
     "checksum": "210458776d52c82b65561eb26896b95c",
     "grade": false,
     "grade_id": "cell-32c08e39a1cdf964",
     "locked": true,
     "schema_version": 3,
     "solution": false,
     "task": false
    }
   },
   "source": [
    "Modify the `Grass_Pokemon` subclass so that, when trained, the attack strength for `Grass_Pokemon` instances increases *only* if they are at level 10 or higher. This means that if they transition from level `9` to level `10`, their `attack` should **not** increase. If they transition from `10` to `11`, their `attack` should increment by `attack_boost`. Do not change anything in the parent `Pokemon` class.\n",
    "\n",
    "To test, create an instance of `Grass_Pokemon` with the `name` as `\"Bulby\"`. Assign the instance to the variable `p2`. Create another instance of the `Grass_Pokemon` class with the name set to `\"Pika\"` and assign that instance to the variable `p3`. Then, use `Grass_Pokemon` methods to train the `p3` `Grass_Pokemon` instance until it reaches at least level 10."
   ]
  },
  {
   "cell_type": "code",
   "execution_count": 5,
   "id": "9a5fdb94",
   "metadata": {
    "deletable": false,
    "nbgrader": {
     "cell_type": "code",
     "checksum": "c20ac68474e1cb4c86bfebb6305fef16",
     "grade": false,
     "grade_id": "cell-42eb03b2bac82fb4",
     "locked": false,
     "schema_version": 3,
     "solution": true,
     "task": false
    }
   },
   "outputs": [
    {
     "name": "stdout",
     "output_type": "stream",
     "text": [
      "Pokemon name: Bulby, Type: Grass, Level: 5\n",
      "Pika's final level: 10\n",
      "Pika's attack before level 10 training: 15\n",
      "Pika's attack after level 10 training: 17\n"
     ]
    }
   ],
   "source": [
    "class Pokemon(object):\n",
    "    attack  = 12\n",
    "    defense = 10\n",
    "    health  = 15\n",
    "    p_type  = \"Normal\"\n",
    "    attack_boost  = 3\n",
    "    defense_boost = 2\n",
    "    health_boost  = 5\n",
    "    evolution_threshold = 10\n",
    "\n",
    "    def __init__(self, name, level = 5):\n",
    "        self.name  = name\n",
    "        self._level = level\n",
    "\n",
    "    @property\n",
    "    def level(self):\n",
    "        return self._level\n",
    "\n",
    "    @level.setter\n",
    "    def level(self, value):\n",
    "        if value < 1:\n",
    "            raise ValueError(\"Level must be greater than or equal to 1\")\n",
    "        self._level = value\n",
    "\n",
    "    def train(self):\n",
    "        self.attack_up()\n",
    "        self.defense_up()\n",
    "        self.health_up()\n",
    "        self.level = self.level + 1\n",
    "        evolved = (self.level % self.evolution_threshold == 0)\n",
    "        return self.level, evolved\n",
    "\n",
    "    def attack_up(self):\n",
    "        self.attack += self.attack_boost\n",
    "        return self.attack\n",
    "\n",
    "    def defense_up(self):\n",
    "        self.defense += self.defense_boost\n",
    "        return self.defense\n",
    "\n",
    "    def health_up(self):\n",
    "        self.health += self.health_boost\n",
    "        return self.health\n",
    "\n",
    "    def __str__(self):\n",
    "        return f\"Pokemon name: {self.name}, Type: {self.p_type}, Level: {self.level}\"\n",
    "\n",
    "class Grass_Pokemon(Pokemon):\n",
    "    attack  = 15\n",
    "    defense = 14\n",
    "    health  = 12\n",
    "    p_type  = \"Grass\"\n",
    "    attack_boost  = 2\n",
    "    defense_boost = 3\n",
    "    health_boost  = 6\n",
    "    evolution_threshold = 12\n",
    "\n",
    "    # Override the parent's attack_up method\n",
    "    def attack_up(self):\n",
    "        if self.level >= 10:\n",
    "            self.attack += self.attack_boost\n",
    "        return self.attack\n",
    "\n",
    "# Create an instance of Grass_Pokemon with the name as \"Bulby\".\n",
    "p2 = Grass_Pokemon(\"Bulby\")\n",
    "\n",
    "# Create another instance with the name \"Pika\".\n",
    "p3 = Grass_Pokemon(\"Pika\")\n",
    "\n",
    "# Train the p3 instance until it reaches at least level 10.\n",
    "while p3.level < 10:\n",
    "    p3.train()\n",
    "\n",
    "# --- Verification (optional) ---\n",
    "print(p2)\n",
    "print(f\"Pika's final level: {p3.level}\")\n",
    "print(f\"Pika's attack before level 10 training: {p3.attack}\")\n",
    "p3.train() # Train from level 10 to 11\n",
    "print(f\"Pika's attack after level 10 training: {p3.attack}\")\n",
    "\n"
   ]
  },
  {
   "cell_type": "code",
   "execution_count": 6,
   "id": "d101c838",
   "metadata": {
    "deletable": false,
    "editable": false,
    "nbgrader": {
     "cell_type": "code",
     "checksum": "f2b060386c57cb88c7e96d8b0ec7dba9",
     "grade": true,
     "grade_id": "cell-26e74f23bd0f67f3",
     "locked": true,
     "points": 1,
     "schema_version": 3,
     "solution": false,
     "task": false
    }
   },
   "outputs": [],
   "source": [
    "assert isinstance(p2, Grass_Pokemon), \"p2 is not the correct type\"\n",
    "assert isinstance(p3, Grass_Pokemon), \"p3 is not the correct type\"\n",
    "\n",
    "assert p2.__str__() == \"Pokemon name: Bulby, Type: Grass, Level: 5\", \"p2 does not have the correct value\"\n",
    "assert p3.level >= 10, \"p3 does not have the correct level; only train to level 10\"\n",
    "assert p3.attack_up() >= 17, \"p3 does not have the correct attack value at level 10\""
   ]
  },
  {
   "cell_type": "markdown",
   "id": "976cac5d",
   "metadata": {
    "deletable": false,
    "editable": false,
    "nbgrader": {
     "cell_type": "markdown",
     "checksum": "905658c53cdad623964079f9f8fa0b77",
     "grade": false,
     "grade_id": "cell-1e5b95943963e830",
     "locked": true,
     "schema_version": 3,
     "solution": false,
     "task": false
    }
   },
   "source": [
    "Now, suppose different Pokemon types have strengths against other types. For example, \"Water\" Pokemon are strong against \"Fire\" Pokemon. Along with the `Pokemon` parent class, we have also provided several subclasses (note that we are *not* implementing a `Normal_Pokemon` class; \"Normal\" Pokemon can be instances of the `Pokemon` base class). We also added a `strong_vs` class variable to track which types of Pokemon this type is strong against.\n",
    "\n",
    "- **Grass** is strong against *Water*\n",
    "- **Fire** is strong against *Normal* and *Grass*\n",
    "- **Water** is strong against *Fire*\n",
    "- **Normal** is not strong against any type\n",
    "\n",
    "Let's also say that a Pokemon is \"weak\" against any Pokemon that is \"strong\" against it. For example, since *Fire* is strong against *Normal*, that means *Normal* is *weak* against *Fire*. To capture this relationships, write two methods in the `Pokemon` parent class that will be inherited by the subclasses:\n",
    "\n",
    "- `is_strong_vs(self, opponent)`: accepts an `opponent`, which is a `Pokemon` instance. It should return `true` if type `p_type` of `opponent` is in `self.strong_vs` and `false` otherwise\n",
    "- `is_weak_vs(self, opponent)`: accepts an `opponent`, which is a `Pokemon` instance. It should return `true` if the **opponent** is strong against `self` (you probably want to reference `opponent.is_strong_vs`)"
   ]
  },
  {
   "cell_type": "code",
   "execution_count": 7,
   "id": "83dad26e",
   "metadata": {
    "deletable": false,
    "nbgrader": {
     "cell_type": "code",
     "checksum": "c122898c07235840101c6d442b58c7be",
     "grade": false,
     "grade_id": "cell-d25b1c5697ce94ff",
     "locked": false,
     "schema_version": 3,
     "solution": true,
     "task": false
    }
   },
   "outputs": [
    {
     "name": "stdout",
     "output_type": "stream",
     "text": [
      "Is Grass strong vs Water? True\n",
      "Is Water weak vs Grass? True\n",
      "Is Fire strong vs Grass? True\n",
      "Is Grass weak vs Fire? True\n"
     ]
    }
   ],
   "source": [
    "class Pokemon():\n",
    "    attack  = 12\n",
    "    defense = 10\n",
    "    health  = 15\n",
    "    p_type  = \"Normal\"\n",
    "    attack_boost  = 3\n",
    "    defense_boost = 2\n",
    "    health_boost  = 5\n",
    "    evolution_threshold = 10\n",
    "    strong_vs = [] # A list of types this Pokemon is strong against\n",
    "\n",
    "    def __init__(self, name, level = 5):\n",
    "        self.name  = name\n",
    "        self._level = level\n",
    "\n",
    "    @property\n",
    "    def level(self):\n",
    "        return self._level\n",
    "\n",
    "    @level.setter\n",
    "    def level(self, value):\n",
    "        if value < 1:\n",
    "            raise ValueError(\"Level must be greater than or equal to 1\")\n",
    "        self._level = value\n",
    "\n",
    "    def train(self):\n",
    "        self.attack_up()\n",
    "        self.defense_up()\n",
    "        self.health_up()\n",
    "        self.level += 1\n",
    "        evolved = (self.level % self.evolution_threshold == 0)\n",
    "        return self.level, evolved\n",
    "\n",
    "    def attack_up(self):\n",
    "        self.attack += self.attack_boost\n",
    "        return self.attack\n",
    "\n",
    "    def defense_up(self):\n",
    "        self.defense += self.defense_boost\n",
    "        return self.defense\n",
    "\n",
    "    def health_up(self):\n",
    "        self.health += self.health_boost\n",
    "        return self.health\n",
    "\n",
    "    def is_strong_vs(self, opponent):\n",
    "        \"\"\"Returns True if this Pokemon is strong against the opponent.\"\"\"\n",
    "        return opponent.p_type in self.strong_vs\n",
    "\n",
    "    def is_weak_vs(self, opponent):\n",
    "        \"\"\"Returns True if this Pokemon is weak against the opponent.\"\"\"\n",
    "        return opponent.is_strong_vs(self)\n",
    "\n",
    "    def __str__(self):\n",
    "        return f\"Pokemon name: {self.name}, Type: {self.p_type}, Level: {self.level}\"\n",
    "\n",
    "class Grass_Pokemon(Pokemon):\n",
    "    p_type    = \"Grass\"\n",
    "    strong_vs = [\"Water\"]\n",
    "\n",
    "class Fire_Pokemon(Pokemon):\n",
    "    p_type    = \"Fire\"\n",
    "    strong_vs = [\"Grass\", \"Normal\"]\n",
    "\n",
    "class Water_Pokemon(Pokemon):\n",
    "    p_type    = \"Water\"\n",
    "    strong_vs = [\"Fire\"]\n",
    "\n",
    "# --- Verification (optional) ---\n",
    "bulby = Grass_Pokemon(\"Bulby\")\n",
    "charmander = Fire_Pokemon(\"Charmander\")\n",
    "squirtle = Water_Pokemon(\"Squirtle\")\n",
    "\n",
    "print(f\"Is {bulby.p_type} strong vs {squirtle.p_type}? {bulby.is_strong_vs(squirtle)}\")\n",
    "print(f\"Is {squirtle.p_type} weak vs {bulby.p_type}? {squirtle.is_weak_vs(bulby)}\")\n",
    "print(f\"Is {charmander.p_type} strong vs {bulby.p_type}? {charmander.is_strong_vs(bulby)}\")\n",
    "print(f\"Is {bulby.p_type} weak vs {charmander.p_type}? {bulby.is_weak_vs(charmander)}\")\n"
   ]
  },
  {
   "cell_type": "code",
   "execution_count": null,
   "id": "6dd310d4",
   "metadata": {
    "deletable": false,
    "editable": false,
    "nbgrader": {
     "cell_type": "code",
     "checksum": "d80c37d6257f90fb082718e0818eeec4",
     "grade": true,
     "grade_id": "cell-1f243a5aa8d35cea",
     "locked": true,
     "points": 1,
     "schema_version": 3,
     "solution": false,
     "task": false
    }
   },
   "outputs": [],
   "source": []
  },
  {
   "cell_type": "code",
   "execution_count": null,
   "id": "e47e9fc9-864b-4041-9424-bfe1c3498d96",
   "metadata": {
    "tags": []
   },
   "outputs": [],
   "source": []
  }
 ],
 "metadata": {
  "kernelspec": {
   "display_name": "Python 3.11 (ipykernel)",
   "language": "python",
   "name": "python3"
  },
  "language_info": {
   "codemirror_mode": {
    "name": "ipython",
    "version": 3
   },
   "file_extension": ".py",
   "mimetype": "text/x-python",
   "name": "python",
   "nbconvert_exporter": "python",
   "pygments_lexer": "ipython3",
   "version": "3.11.9"
  }
 },
 "nbformat": 4,
 "nbformat_minor": 5
}
