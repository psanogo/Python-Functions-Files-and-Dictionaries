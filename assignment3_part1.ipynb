{
 "cells": [
  {
   "cell_type": "markdown",
   "id": "32b37abe-1d92-44da-91c6-c7df1d237811",
   "metadata": {
    "deletable": false,
    "editable": false,
    "nbgrader": {
     "cell_type": "markdown",
     "checksum": "9ba25f45a140c9a3a791827cc54c7196",
     "grade": false,
     "grade_id": "cell-3590767611fd1fdf",
     "locked": true,
     "schema_version": 3,
     "solution": false,
     "task": false
    }
   },
   "source": [
    "# Assignment 3 (part one)\n",
    "\n",
    "### Decorators"
   ]
  },
  {
   "cell_type": "markdown",
   "id": "a336b9f4-37be-4d65-acc3-be56a36444f6",
   "metadata": {
    "deletable": false,
    "editable": false,
    "nbgrader": {
     "cell_type": "markdown",
     "checksum": "aaf550585964f94119508ddd18dcd621",
     "grade": false,
     "grade_id": "cell-76e81047d6fb63b8",
     "locked": true,
     "schema_version": 3,
     "solution": false,
     "task": false
    }
   },
   "source": [
    "Let's create a Python decorator function named `performance`. This decorator is designed to measure the execution time of other functions. Here's how it should work:\n",
    "\n",
    "- **Input:** The `performance` decorator accepts a single function as its argument.\n",
    "- **Wrapped Function**: The `performance` decorator should return a modified (\"wrapped\") version of the input function that:\n",
    "    1. Records the *start* time before running the wrapped function\n",
    "    2. Executes the wrapped function and stores its resturn value\n",
    "    3. Records the *end* time after running the wrapped function\n",
    "    4. Calculates the elapsed time (end time - start time)\n",
    "- **Return Value:** The wrapped function should return a **tuple** with:\n",
    "    1. The elapsed time (in seconds) taken to execute the wrapped function\n",
    "    2. The wrapped function's return value\n",
    " \n",
    "The `time` module has a function named `perf_counter` for measuring how long it takes to run something. For example:\n",
    "\n",
    "```python\n",
    "import time\n",
    "import functools\n",
    "\n",
    "def performance(func):\n",
    "    \"\"\"\n",
    "    A decorator that measures the execution time of a function and returns\n",
    "    a tuple containing the function's result and the elapsed time.\n",
    "    \"\"\"\n",
    "    @functools.wraps(func)\n",
    "    def wrapper(*args, **kwargs):\n",
    "        # Record the start time\n",
    "        start_time = time.perf_counter()\n",
    "        \n",
    "        # Execute the wrapped function and store its result\n",
    "        result = func(*args, **kwargs)\n",
    "        \n",
    "        # Record the end time\n",
    "        end_time = time.perf_counter()\n",
    "        \n",
    "        # Calculate the elapsed time\n",
    "        elapsed_time = end_time - start_time\n",
    "        \n",
    "        # Return the result and the elapsed time as a tuple\n",
    "        return result, elapsed_time\n",
    "    return wrapper\n",
    "\n",
    "# --- Example Usage ---\n",
    "\n",
    "@performance\n",
    "def add(a, b):\n",
    "    \"\"\"A simple function to add two numbers.\"\"\"\n",
    "    return a + b\n",
    "\n",
    "@performance\n",
    "def process_data():\n",
    "    \"\"\"A function that simulates some work.\"\"\"\n",
    "    time.sleep(0.2)\n",
    "    return \"Data processing complete\"\n",
    "\n",
    "# Call the decorated functions\n",
    "sum_result, time_taken_add = add(1, 2)\n",
    "process_result, time_taken_process = process_data()\n",
    "\n",
    "print(f\"Result of add(1, 2): {sum_result}\")\n",
    "print(f\"Time taken for add(): {time_taken_add:.6f} seconds\")\n",
    "print(\"-\" * 20)\n",
    "print(f\"Result of process_data(): '{process_result}'\")\n",
    "print(f\"Time taken for process_data(): {time_taken_process:.6f} seconds\")\n"
   ]
  },
  {
   "cell_type": "code",
   "execution_count": 1,
   "id": "656ec7d8-b0fd-4369-8860-224e6a5262f0",
   "metadata": {
    "deletable": false,
    "nbgrader": {
     "cell_type": "code",
     "checksum": "fd49c2f70931eecd4508e5b29f86a764",
     "grade": false,
     "grade_id": "cell-a477f05ad59f689b",
     "locked": false,
     "schema_version": 3,
     "solution": true,
     "task": false
    }
   },
   "outputs": [
    {
     "name": "stdout",
     "output_type": "stream",
     "text": [
      "Result of add(10, 20): 30\n",
      "Time taken for add(): 0.000001 seconds\n",
      "------------------------------\n",
      "Result of process_data(): 'Processing complete'\n",
      "Time taken for process_data(): 0.500075 seconds\n"
     ]
    }
   ],
   "source": [
    "import time\n",
    "import functools\n",
    "\n",
    "def performance(func):\n",
    "    \"\"\"\n",
    "    A decorator that measures the execution time of a function and returns\n",
    "    a tuple containing the function's result and the elapsed time.\n",
    "    \"\"\"\n",
    "    @functools.wraps(func)\n",
    "    def wrapper(*args, **kwargs):\n",
    "        # 1. Record the start time\n",
    "        start_time = time.perf_counter()\n",
    "        \n",
    "        # 2. Execute the wrapped function and store its result\n",
    "        result = func(*args, **kwargs)\n",
    "        \n",
    "        # 3. Record the end time\n",
    "        end_time = time.perf_counter()\n",
    "        \n",
    "        # 4. Calculate the elapsed time\n",
    "        elapsed_time = end_time - start_time\n",
    "        \n",
    "        # 5. Return the original result and the elapsed time as a tuple\n",
    "        return result, elapsed_time\n",
    "    return wrapper\n",
    "\n",
    "# --- Example Usage ---\n",
    "\n",
    "@performance\n",
    "def add(a, b):\n",
    "    \"\"\"A simple function to add two numbers.\"\"\"\n",
    "    return a + b\n",
    "\n",
    "@performance\n",
    "def process_data():\n",
    "    \"\"\"A function that simulates some work.\"\"\"\n",
    "    time.sleep(0.5) # Wait for half a second\n",
    "    return \"Processing complete\"\n",
    "\n",
    "# --- Testing the decorated functions ---\n",
    "\n",
    "# Test the 'add' function\n",
    "sum_result, time_taken_add = add(10, 20)\n",
    "print(f\"Result of add(10, 20): {sum_result}\")\n",
    "print(f\"Time taken for add(): {time_taken_add:.6f} seconds\")\n",
    "\n",
    "print(\"-\" * 30)\n",
    "\n",
    "# Test the 'process_data' function\n",
    "process_result, time_taken_process = process_data()\n",
    "print(f\"Result of process_data(): '{process_result}'\")\n",
    "print(f\"Time taken for process_data(): {time_taken_process:.6f} seconds\")\n"
   ]
  },
  {
   "cell_type": "code",
   "execution_count": null,
   "id": "29436ad7-db05-463c-8f12-bac4d9c6f01e",
   "metadata": {
    "deletable": false,
    "editable": false,
    "nbgrader": {
     "cell_type": "code",
     "checksum": "ff4d7633797e79bf52c3d0e6e934ece1",
     "grade": true,
     "grade_id": "cell-93ae55572db62abc",
     "locked": true,
     "points": 1,
     "schema_version": 3,
     "solution": false,
     "task": false
    }
   },
   "outputs": [],
   "source": []
  },
  {
   "cell_type": "code",
   "execution_count": null,
   "id": "87323186-5ffb-4d86-bfd6-7f0237b6be89",
   "metadata": {},
   "outputs": [],
   "source": []
  }
 ],
 "metadata": {
  "kernelspec": {
   "display_name": "Python 3.11 (ipykernel)",
   "language": "python",
   "name": "python3"
  },
  "language_info": {
   "codemirror_mode": {
    "name": "ipython",
    "version": 3
   },
   "file_extension": ".py",
   "mimetype": "text/x-python",
   "name": "python",
   "nbconvert_exporter": "python",
   "pygments_lexer": "ipython3",
   "version": "3.11.9"
  }
 },
 "nbformat": 4,
 "nbformat_minor": 5
}
