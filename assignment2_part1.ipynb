{
 "cells": [
  {
   "cell_type": "markdown",
   "id": "78b29d8e",
   "metadata": {
    "deletable": false,
    "editable": false,
    "nbgrader": {
     "cell_type": "markdown",
     "checksum": "984370601338e737469f73c75fbe5bc2",
     "grade": false,
     "grade_id": "cell-a3fe143bf9a0125e",
     "locked": true,
     "schema_version": 3,
     "solution": false,
     "task": false
    }
   },
   "source": [
    "# Assignment 2 (part one)\n",
    "\n",
    "Dictionary Mechanics"
   ]
  },
  {
   "cell_type": "markdown",
   "id": "d28659b8",
   "metadata": {
    "deletable": false,
    "editable": false,
    "nbgrader": {
     "cell_type": "markdown",
     "checksum": "05cf45f021e32c162054e1c968eee6f6",
     "grade": false,
     "grade_id": "cell-bb7693f4003177cb",
     "locked": true,
     "schema_version": 3,
     "solution": false,
     "task": false
    }
   },
   "source": [
    "At the halfway point during the Rio Olympics, the United States had 70 medals, Great Britain had 38 medals, China had 45 medals, Russia had 30 medals, and Germany had 17 medals. Create a dictionary assigned to the variable `medal_count` with the country names as the keys and the number of medals the country had as each key’s value."
   ]
  },
  {
   "cell_type": "code",
   "execution_count": 1,
   "id": "916e1a1d",
   "metadata": {
    "deletable": false,
    "nbgrader": {
     "cell_type": "code",
     "checksum": "b1a54b65416e233788f0bd7cff80d014",
     "grade": false,
     "grade_id": "cell-05b0090b88bdbe3f",
     "locked": false,
     "schema_version": 3,
     "solution": true,
     "task": false
    }
   },
   "outputs": [],
   "source": [
    "medal_count = {\n",
    "    \"United States\": 70,\n",
    "    \"Great Britain\": 38,\n",
    "    \"China\": 45,\n",
    "    \"Russia\": 30,\n",
    "    \"Germany\": 17,\n",
    "}\n"
   ]
  },
  {
   "cell_type": "code",
   "execution_count": null,
   "id": "fb567258",
   "metadata": {
    "deletable": false,
    "editable": false,
    "nbgrader": {
     "cell_type": "code",
     "checksum": "1b80b02f67506e0b6fee79dfab43c207",
     "grade": true,
     "grade_id": "cell-d51a56efe6f54460",
     "locked": true,
     "points": 1,
     "schema_version": 3,
     "solution": false,
     "task": false
    }
   },
   "outputs": [],
   "source": []
  },
  {
   "cell_type": "markdown",
   "id": "86efe022",
   "metadata": {
    "deletable": false,
    "editable": false,
    "nbgrader": {
     "cell_type": "markdown",
     "checksum": "4ee73c4689d0cf6f80211ff82c99b393",
     "grade": false,
     "grade_id": "cell-9f395aac9af8d687",
     "locked": true,
     "schema_version": 3,
     "solution": false,
     "task": false
    }
   },
   "source": [
    "Given the dictionary `swimmers`, add an additional key-value pair to the dictionary with `\"Phelps\"` as the key and the integer `23` as the value. Do not rewrite the entire dictionary."
   ]
  },
  {
   "cell_type": "code",
   "execution_count": 2,
   "id": "23c21d25",
   "metadata": {
    "deletable": false,
    "nbgrader": {
     "cell_type": "code",
     "checksum": "61421d057ecd7b5233402a5177586dfe",
     "grade": false,
     "grade_id": "cell-5652f79cb486adbe",
     "locked": false,
     "schema_version": 3,
     "solution": true,
     "task": false
    }
   },
   "outputs": [],
   "source": [
    "swimmers = {\"Manuel\": 4, \"Lochte\": 12, \"Adrian\": 7, \"Ledecky\": 5, \"Dirado\": 4}\n",
    "swimmers[\"Phelps\"] = 23\n"
   ]
  },
  {
   "cell_type": "code",
   "execution_count": null,
   "id": "88491d5e",
   "metadata": {
    "deletable": false,
    "editable": false,
    "nbgrader": {
     "cell_type": "code",
     "checksum": "f17de562e175e913ef0b9806d38e9be7",
     "grade": true,
     "grade_id": "cell-f9fdc3d3e6bebade",
     "locked": true,
     "points": 1,
     "schema_version": 3,
     "solution": false,
     "task": false
    }
   },
   "outputs": [],
   "source": []
  },
  {
   "cell_type": "markdown",
   "id": "8d619831",
   "metadata": {
    "deletable": false,
    "editable": false,
    "nbgrader": {
     "cell_type": "markdown",
     "checksum": "f1eace79399938a5bd2622d2a098a053",
     "grade": false,
     "grade_id": "cell-3fda89e3a466e365",
     "locked": true,
     "schema_version": 3,
     "solution": false,
     "task": false
    }
   },
   "source": [
    "Add the string “hockey” as a key to the dictionary `sports_periods` and assign it the value of 3. Do not rewrite the entire dictionary."
   ]
  },
  {
   "cell_type": "code",
   "execution_count": 3,
   "id": "c378b4f0",
   "metadata": {
    "deletable": false,
    "nbgrader": {
     "cell_type": "code",
     "checksum": "dcb63d880f2564000288e838c3696cff",
     "grade": false,
     "grade_id": "cell-12c7838581d8992d",
     "locked": false,
     "schema_version": 3,
     "solution": true,
     "task": false
    }
   },
   "outputs": [],
   "source": [
    "sports_periods = {\"baseball\": 9, \"basketball\": 4, \"soccer\": 4, \"cricket\": 2}\n",
    "sports_periods[\"hockey\"] = 3\n"
   ]
  },
  {
   "cell_type": "code",
   "execution_count": null,
   "id": "876f07e2",
   "metadata": {
    "deletable": false,
    "editable": false,
    "nbgrader": {
     "cell_type": "code",
     "checksum": "3415260ebd12d9a5f3d3ea90050d79dc",
     "grade": true,
     "grade_id": "cell-20b4310a68080b2a",
     "locked": true,
     "points": 1,
     "schema_version": 3,
     "solution": false,
     "task": false
    }
   },
   "outputs": [],
   "source": []
  },
  {
   "cell_type": "markdown",
   "id": "b71701c9",
   "metadata": {
    "deletable": false,
    "editable": false,
    "nbgrader": {
     "cell_type": "markdown",
     "checksum": "e9647f1bb0456fb29cb2c315bbf1c613",
     "grade": false,
     "grade_id": "cell-df7092f39118ab53",
     "locked": true,
     "schema_version": 3,
     "solution": false,
     "task": false
    }
   },
   "source": [
    "The dictionary `golds` contains information about how many gold medals each country won in the 2016 Olympics. But today, Spain won 2 more gold medals. Update `golds` to reflect this information."
   ]
  },
  {
   "cell_type": "code",
   "execution_count": 4,
   "id": "dfdcfa00",
   "metadata": {
    "deletable": false,
    "nbgrader": {
     "cell_type": "code",
     "checksum": "2b4547ffc1c5de76dd5a62bcfc3a0323",
     "grade": false,
     "grade_id": "cell-05a27af955f412e4",
     "locked": false,
     "schema_version": 3,
     "solution": true,
     "task": false
    }
   },
   "outputs": [
    {
     "ename": "NotImplementedError",
     "evalue": "",
     "output_type": "error",
     "traceback": [
      "\u001b[0;31m---------------------------------------------------------------------------\u001b[0m",
      "\u001b[0;31mNotImplementedError\u001b[0m                       Traceback (most recent call last)",
      "Cell \u001b[0;32mIn[4], line 13\u001b[0m\n\u001b[1;32m      1\u001b[0m golds \u001b[38;5;241m=\u001b[39m {\n\u001b[1;32m      2\u001b[0m     \u001b[38;5;124m\"\u001b[39m\u001b[38;5;124mItaly\u001b[39m\u001b[38;5;124m\"\u001b[39m: \u001b[38;5;241m12\u001b[39m,\n\u001b[1;32m      3\u001b[0m     \u001b[38;5;124m\"\u001b[39m\u001b[38;5;124mUSA\u001b[39m\u001b[38;5;124m\"\u001b[39m: \u001b[38;5;241m33\u001b[39m,\n\u001b[0;32m   (...)\u001b[0m\n\u001b[1;32m      9\u001b[0m     \u001b[38;5;124m\"\u001b[39m\u001b[38;5;124mEngland\u001b[39m\u001b[38;5;124m\"\u001b[39m: \u001b[38;5;241m29\u001b[39m,\n\u001b[1;32m     10\u001b[0m }\n\u001b[1;32m     11\u001b[0m golds[\u001b[38;5;124m\"\u001b[39m\u001b[38;5;124mSpain\u001b[39m\u001b[38;5;124m\"\u001b[39m] \u001b[38;5;241m+\u001b[39m\u001b[38;5;241m=\u001b[39m \u001b[38;5;241m2\u001b[39m\n\u001b[0;32m---> 13\u001b[0m \u001b[38;5;28;01mraise\u001b[39;00m \u001b[38;5;167;01mNotImplementedError\u001b[39;00m()\n",
      "\u001b[0;31mNotImplementedError\u001b[0m: "
     ]
    }
   ],
   "source": [
    "golds = {\n",
    "    \"Italy\": 12,\n",
    "    \"USA\": 33,\n",
    "    \"Brazil\": 15,\n",
    "    \"China\": 27,\n",
    "    \"Spain\": 19,\n",
    "    \"Canada\": 22,\n",
    "    \"Argentina\": 8,\n",
    "    \"England\": 29,\n",
    "}\n",
    "golds[\"Spain\"] += 2\n",
    "\n",
    "raise NotImplementedError()"
   ]
  },
  {
   "cell_type": "code",
   "execution_count": null,
   "id": "e9c3031e",
   "metadata": {
    "deletable": false,
    "editable": false,
    "nbgrader": {
     "cell_type": "code",
     "checksum": "f36b4a8be8571d8afeb09a129e1cec48",
     "grade": true,
     "grade_id": "cell-501ec98bb1a97463",
     "locked": true,
     "points": 1,
     "schema_version": 3,
     "solution": false,
     "task": false
    }
   },
   "outputs": [],
   "source": []
  },
  {
   "cell_type": "markdown",
   "id": "8992d461",
   "metadata": {
    "deletable": false,
    "editable": false,
    "nbgrader": {
     "cell_type": "markdown",
     "checksum": "d0560c27ca64b7426e3d4e2ea48a754c",
     "grade": false,
     "grade_id": "cell-4473331d4a6cb234",
     "locked": true,
     "schema_version": 3,
     "solution": false,
     "task": false
    }
   },
   "source": [
    "Create a list of the countries that are in the dictionary `golds`, and assign that list to the variable name `countries`. Do not hard code this."
   ]
  },
  {
   "cell_type": "code",
   "execution_count": 5,
   "id": "91f26932",
   "metadata": {
    "deletable": false,
    "nbgrader": {
     "cell_type": "code",
     "checksum": "9e2db25d4f755f97a4bfade15af5dfc2",
     "grade": false,
     "grade_id": "cell-34c71df47f7cb298",
     "locked": false,
     "schema_version": 3,
     "solution": true,
     "task": false
    }
   },
   "outputs": [],
   "source": [
    "golds = {\n",
    "    \"Italy\": 12,\n",
    "    \"USA\": 33,\n",
    "    \"Brazil\": 15,\n",
    "    \"China\": 27,\n",
    "    \"Spain\": 19,\n",
    "    \"Canada\": 22,\n",
    "    \"Argentina\": 8,\n",
    "    \"England\": 29,\n",
    "}\n",
    "countries = list(golds.keys())\n"
   ]
  },
  {
   "cell_type": "code",
   "execution_count": null,
   "id": "fac6fd78",
   "metadata": {
    "deletable": false,
    "editable": false,
    "nbgrader": {
     "cell_type": "code",
     "checksum": "cc4b415d518782d9b9174106fa5c9261",
     "grade": true,
     "grade_id": "cell-68a0dfa26962cec6",
     "locked": true,
     "points": 1,
     "schema_version": 3,
     "solution": false,
     "task": false
    }
   },
   "outputs": [],
   "source": []
  },
  {
   "cell_type": "markdown",
   "id": "a18bf052",
   "metadata": {
    "deletable": false,
    "editable": false,
    "nbgrader": {
     "cell_type": "markdown",
     "checksum": "271696e038d0ec0606f40450a1b892fe",
     "grade": false,
     "grade_id": "cell-71ac11b90dbd8dd5",
     "locked": true,
     "schema_version": 3,
     "solution": false,
     "task": false
    }
   },
   "source": [
    "Provided is the dictionary, `medal_count`, which lists countries and their respective medal count at the halfway point in the 2016 Rio Olympics. Using dictionary mechanics, assign the medal count value for `\"Belarus\"` to the variable `belarus`. Do not hardcode this."
   ]
  },
  {
   "cell_type": "code",
   "execution_count": 6,
   "id": "2ead40a0",
   "metadata": {
    "deletable": false,
    "nbgrader": {
     "cell_type": "code",
     "checksum": "fa939227198e6db0739281cb41b2b8e9",
     "grade": false,
     "grade_id": "cell-0bcb1d5ca1fa9a47",
     "locked": false,
     "schema_version": 3,
     "solution": true,
     "task": false
    }
   },
   "outputs": [],
   "source": [
    "medal_count = {\n",
    "    \"United States\": 70, \"Great Britain\": 38, \"China\": 45, \"Russia\": 30,\n",
    "    \"Germany\": 17, \"Italy\": 22, \"France\": 22, \"Japan\": 26, \"Australia\": 22,\n",
    "    \"South Korea\": 14, \"Hungary\": 12, \"Netherlands\": 10, \"Spain\": 5,\n",
    "    \"New Zealand\": 8, \"Canada\": 13, \"Kazakhstan\": 8, \"Colombia\": 4,\n",
    "    \"Switzerland\": 5, \"Belgium\": 4, \"Thailand\": 4, \"Croatia\": 3, \"Iran\": 3,\n",
    "    \"Jamaica\": 3, \"South Africa\": 7, \"Sweden\": 6, \"Denmark\": 7,\n",
    "    \"North Korea\": 6, \"Kenya\": 4, \"Brazil\": 7, \"Belarus\": 4, \"Cuba\": 5,\n",
    "    \"Poland\": 4, \"Romania\": 4, \"Slovenia\": 3, \"Argentina\": 2, \"Bahrain\": 2,\n",
    "    \"Slovakia\": 2, \"Vietnam\": 2, \"Czech Republic\": 6, \"Uzbekistan\": 5,\n",
    "}\n",
    "belarus = medal_count[\"Belarus\"]\n"
   ]
  },
  {
   "cell_type": "code",
   "execution_count": null,
   "id": "2f076205",
   "metadata": {
    "deletable": false,
    "editable": false,
    "nbgrader": {
     "cell_type": "code",
     "checksum": "60b21fcfc183eaf57ca53d9c537fa1a0",
     "grade": true,
     "grade_id": "cell-ec6197b90ed473f4",
     "locked": true,
     "points": 1,
     "schema_version": 3,
     "solution": false,
     "task": false
    }
   },
   "outputs": [],
   "source": []
  },
  {
   "cell_type": "markdown",
   "id": "4369a114",
   "metadata": {
    "deletable": false,
    "editable": false,
    "nbgrader": {
     "cell_type": "markdown",
     "checksum": "9948e32c917aa089f96d952a75b31027",
     "grade": false,
     "grade_id": "cell-fc37e9bfca4411f4",
     "locked": true,
     "schema_version": 3,
     "solution": false,
     "task": false
    }
   },
   "source": [
    "The dictionary `total_golds` contains the total number of gold medals that countries have won over the course of history. Use dictionary mechanics to find the number of golds Chile has won, and assign that number to the variable name `chile_golds`. Do not hard code this!"
   ]
  },
  {
   "cell_type": "code",
   "execution_count": 7,
   "id": "cbb49481",
   "metadata": {
    "deletable": false,
    "nbgrader": {
     "cell_type": "code",
     "checksum": "c79384849de2de19fe3fc21065d5c153",
     "grade": false,
     "grade_id": "cell-6633bbbbca423f46",
     "locked": false,
     "schema_version": 3,
     "solution": true,
     "task": false
    }
   },
   "outputs": [],
   "source": [
    "total_golds = {\n",
    "    \"Italy\": 114,\n",
    "    \"Germany\": 782,\n",
    "    \"Pakistan\": 10,\n",
    "    \"Sweden\": 627,\n",
    "    \"USA\": 2681,\n",
    "    \"Zimbabwe\": 8,\n",
    "    \"Greece\": 111,\n",
    "    \"Mongolia\": 24,\n",
    "    \"Brazil\": 108,\n",
    "    \"Croatia\": 34,\n",
    "    \"Algeria\": 15,\n",
    "    \"Switzerland\": 323,\n",
    "    \"Yugoslavia\": 87,\n",
    "    \"China\": 526,\n",
    "    \"Egypt\": 26,\n",
    "    \"Norway\": 477,\n",
    "    \"Spain\": 133,\n",
    "    \"Australia\": 480,\n",
    "    \"Slovakia\": 29,\n",
    "    \"Canada\": 22,\n",
    "    \"New Zealand\": 100,\n",
    "    \"Denmark\": 180,\n",
    "    \"Chile\": 13,\n",
    "    \"Argentina\": 70,\n",
    "    \"Thailand\": 24,\n",
    "    \"Cuba\": 209,\n",
    "    \"Uganda\": 7,\n",
    "    \"England\": 806,\n",
    "    \"Denmark\": 180,\n",
    "    \"Ukraine\": 122,\n",
    "    \"Bahamas\": 12,\n",
    "}\n",
    "chile_golds = None\n",
    "\n",
    "# YOUR CODE HERE\n",
    "chile_golds = total_golds[\"Chile\"]\n"
   ]
  },
  {
   "cell_type": "code",
   "execution_count": null,
   "id": "8faa6272",
   "metadata": {
    "deletable": false,
    "editable": false,
    "nbgrader": {
     "cell_type": "code",
     "checksum": "d83377a5c73c47add31be4ba868dd6e1",
     "grade": true,
     "grade_id": "cell-5f0dffd910092da4",
     "locked": true,
     "points": 1,
     "schema_version": 3,
     "solution": false,
     "task": false
    }
   },
   "outputs": [],
   "source": []
  },
  {
   "cell_type": "markdown",
   "id": "ff570f4b",
   "metadata": {
    "deletable": false,
    "editable": false,
    "nbgrader": {
     "cell_type": "markdown",
     "checksum": "8e90b18323001f3c1cc77ebd681a8535",
     "grade": false,
     "grade_id": "cell-e72b08b5ece98f5b",
     "locked": true,
     "schema_version": 3,
     "solution": false,
     "task": false
    }
   },
   "source": [
    "Provided is a dictionary called `US_medals` which has the first 70 metals that the United States has won in 2016, and in which category they have won it in. Using dictionary mechanics, assign the value of the key `\"Fencing\"` to a variable `fencing_value`. Remember, do not hard code this."
   ]
  },
  {
   "cell_type": "code",
   "execution_count": 8,
   "id": "d62b7434",
   "metadata": {
    "deletable": false,
    "nbgrader": {
     "cell_type": "code",
     "checksum": "d1ef5642d7d8bab54731b56fc77ded7f",
     "grade": false,
     "grade_id": "cell-5920113ec99448e8",
     "locked": false,
     "schema_version": 3,
     "solution": true,
     "task": false
    }
   },
   "outputs": [],
   "source": [
    "US_medals = {\n",
    "    \"Swimming\": 33,\n",
    "    \"Gymnastics\": 6,\n",
    "    \"Track & Field\": 6,\n",
    "    \"Tennis\": 3,\n",
    "    \"Judo\": 2,\n",
    "    \"Rowing\": 2,\n",
    "    \"Shooting\": 3,\n",
    "    \"Cycling - Road\": 1,\n",
    "    \"Fencing\": 4,\n",
    "    \"Diving\": 2,\n",
    "    \"Archery\": 2,\n",
    "    \"Cycling - Track\": 1,\n",
    "    \"Equestrian\": 2,\n",
    "    \"Golf\": 1,\n",
    "    \"Weightlifting\": 1,\n",
    "}\n",
    "fencing_value = US_medals[\"Fencing\"]\n"
   ]
  },
  {
   "cell_type": "code",
   "execution_count": null,
   "id": "962554c6",
   "metadata": {
    "deletable": false,
    "editable": false,
    "nbgrader": {
     "cell_type": "code",
     "checksum": "e37b263ab64699ccbd62694096117aec",
     "grade": true,
     "grade_id": "cell-52d86b6a5051297e",
     "locked": true,
     "points": 1,
     "schema_version": 3,
     "solution": false,
     "task": false
    }
   },
   "outputs": [],
   "source": []
  },
  {
   "cell_type": "code",
   "execution_count": null,
   "id": "a3e7276f-d11b-45d5-a546-121f68a918c2",
   "metadata": {},
   "outputs": [],
   "source": []
  },
  {
   "cell_type": "code",
   "execution_count": null,
   "id": "3f4d4eb8-7202-4115-a7eb-9f23e648c108",
   "metadata": {},
   "outputs": [],
   "source": []
  },
  {
   "cell_type": "code",
   "execution_count": null,
   "id": "6898a680-f3fc-4680-8921-925b18461975",
   "metadata": {},
   "outputs": [],
   "source": []
  }
 ],
 "metadata": {
  "kernelspec": {
   "display_name": "Python 3.11 (ipykernel)",
   "language": "python",
   "name": "python3"
  },
  "language_info": {
   "codemirror_mode": {
    "name": "ipython",
    "version": 3
   },
   "file_extension": ".py",
   "mimetype": "text/x-python",
   "name": "python",
   "nbconvert_exporter": "python",
   "pygments_lexer": "ipython3",
   "version": "3.11.6"
  }
 },
 "nbformat": 4,
 "nbformat_minor": 5
}
